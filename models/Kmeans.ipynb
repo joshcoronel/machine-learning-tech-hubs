{
 "cells": [
  {
   "cell_type": "code",
   "execution_count": 1,
   "metadata": {},
   "outputs": [],
   "source": [
    "# Dependencies\n",
    "import matplotlib.pyplot as plt\n",
    "%matplotlib inline\n",
    "import numpy as np\n",
    "import pandas as pd\n",
    "import seaborn as sns\n",
    "sns.set()\n",
    "from sklearn.cluster import KMeans"
   ]
  },
  {
   "cell_type": "code",
   "execution_count": 2,
   "metadata": {},
   "outputs": [
    {
     "data": {
      "text/html": [
       "<div>\n",
       "<style scoped>\n",
       "    .dataframe tbody tr th:only-of-type {\n",
       "        vertical-align: middle;\n",
       "    }\n",
       "\n",
       "    .dataframe tbody tr th {\n",
       "        vertical-align: top;\n",
       "    }\n",
       "\n",
       "    .dataframe thead th {\n",
       "        text-align: right;\n",
       "    }\n",
       "</style>\n",
       "<table border=\"1\" class=\"dataframe\">\n",
       "  <thead>\n",
       "    <tr style=\"text-align: right;\">\n",
       "      <th></th>\n",
       "      <th>zipcode</th>\n",
       "      <th>State</th>\n",
       "      <th>City</th>\n",
       "      <th>CountyName</th>\n",
       "      <th>Average RE Prices</th>\n",
       "      <th>Income per capita</th>\n",
       "      <th>Median Age Male</th>\n",
       "      <th>Median Age Female</th>\n",
       "      <th>Bachelor's degree &gt; 25</th>\n",
       "      <th>Public transportation</th>\n",
       "    </tr>\n",
       "  </thead>\n",
       "  <tbody>\n",
       "    <tr>\n",
       "      <th>0</th>\n",
       "      <td>00602</td>\n",
       "      <td>AL</td>\n",
       "      <td>Auburn</td>\n",
       "      <td>Lee County</td>\n",
       "      <td>114105.2500</td>\n",
       "      <td>9277.0</td>\n",
       "      <td>41.9</td>\n",
       "      <td>42.8</td>\n",
       "      <td>0.134690</td>\n",
       "      <td>0.002796</td>\n",
       "    </tr>\n",
       "    <tr>\n",
       "      <th>1</th>\n",
       "      <td>00606</td>\n",
       "      <td>MO</td>\n",
       "      <td>Neosho</td>\n",
       "      <td>Newton County</td>\n",
       "      <td>59377.7500</td>\n",
       "      <td>5943.0</td>\n",
       "      <td>43.2</td>\n",
       "      <td>43.4</td>\n",
       "      <td>0.068866</td>\n",
       "      <td>0.000000</td>\n",
       "    </tr>\n",
       "    <tr>\n",
       "      <th>2</th>\n",
       "      <td>00610</td>\n",
       "      <td>KY</td>\n",
       "      <td>Anasco</td>\n",
       "      <td>Pike County</td>\n",
       "      <td>108219.5833</td>\n",
       "      <td>10220.0</td>\n",
       "      <td>40.4</td>\n",
       "      <td>44.2</td>\n",
       "      <td>0.130349</td>\n",
       "      <td>0.002741</td>\n",
       "    </tr>\n",
       "    <tr>\n",
       "      <th>3</th>\n",
       "      <td>00617</td>\n",
       "      <td>AL</td>\n",
       "      <td>Imbery</td>\n",
       "      <td>Coffee County</td>\n",
       "      <td>101022.0000</td>\n",
       "      <td>9122.0</td>\n",
       "      <td>39.2</td>\n",
       "      <td>41.0</td>\n",
       "      <td>0.157224</td>\n",
       "      <td>0.005154</td>\n",
       "    </tr>\n",
       "    <tr>\n",
       "      <th>4</th>\n",
       "      <td>00693</td>\n",
       "      <td>PA</td>\n",
       "      <td>Greensburg</td>\n",
       "      <td>Westmoreland County</td>\n",
       "      <td>330761.5000</td>\n",
       "      <td>10536.0</td>\n",
       "      <td>39.2</td>\n",
       "      <td>41.9</td>\n",
       "      <td>0.148064</td>\n",
       "      <td>0.006750</td>\n",
       "    </tr>\n",
       "    <tr>\n",
       "      <th>...</th>\n",
       "      <td>...</td>\n",
       "      <td>...</td>\n",
       "      <td>...</td>\n",
       "      <td>...</td>\n",
       "      <td>...</td>\n",
       "      <td>...</td>\n",
       "      <td>...</td>\n",
       "      <td>...</td>\n",
       "      <td>...</td>\n",
       "      <td>...</td>\n",
       "    </tr>\n",
       "    <tr>\n",
       "      <th>29733</th>\n",
       "      <td>99827</td>\n",
       "      <td>AK</td>\n",
       "      <td>Haines</td>\n",
       "      <td>Haines Borough</td>\n",
       "      <td>211487.0000</td>\n",
       "      <td>33387.0</td>\n",
       "      <td>45.2</td>\n",
       "      <td>45.8</td>\n",
       "      <td>0.229525</td>\n",
       "      <td>0.002308</td>\n",
       "    </tr>\n",
       "    <tr>\n",
       "      <th>29734</th>\n",
       "      <td>99833</td>\n",
       "      <td>AK</td>\n",
       "      <td>Petersburg</td>\n",
       "      <td>Petersburg Borough</td>\n",
       "      <td>254642.9167</td>\n",
       "      <td>33227.0</td>\n",
       "      <td>39.3</td>\n",
       "      <td>42.7</td>\n",
       "      <td>0.219672</td>\n",
       "      <td>0.009211</td>\n",
       "    </tr>\n",
       "    <tr>\n",
       "      <th>29735</th>\n",
       "      <td>99835</td>\n",
       "      <td>AK</td>\n",
       "      <td>Sitka</td>\n",
       "      <td>Sitka Borough</td>\n",
       "      <td>402391.3333</td>\n",
       "      <td>38423.0</td>\n",
       "      <td>37.2</td>\n",
       "      <td>40.5</td>\n",
       "      <td>0.204494</td>\n",
       "      <td>0.010178</td>\n",
       "    </tr>\n",
       "    <tr>\n",
       "      <th>29736</th>\n",
       "      <td>99901</td>\n",
       "      <td>AK</td>\n",
       "      <td>Ketchikan</td>\n",
       "      <td>Ketchikan Gateway Borough</td>\n",
       "      <td>294448.8333</td>\n",
       "      <td>34886.0</td>\n",
       "      <td>39.4</td>\n",
       "      <td>39.9</td>\n",
       "      <td>0.170142</td>\n",
       "      <td>0.035648</td>\n",
       "    </tr>\n",
       "    <tr>\n",
       "      <th>29737</th>\n",
       "      <td>99929</td>\n",
       "      <td>AK</td>\n",
       "      <td>Wrangell</td>\n",
       "      <td>Wrangell Borough</td>\n",
       "      <td>215225.5833</td>\n",
       "      <td>31489.0</td>\n",
       "      <td>51.6</td>\n",
       "      <td>48.3</td>\n",
       "      <td>0.140267</td>\n",
       "      <td>0.006635</td>\n",
       "    </tr>\n",
       "  </tbody>\n",
       "</table>\n",
       "<p>29738 rows × 10 columns</p>\n",
       "</div>"
      ],
      "text/plain": [
       "      zipcode State        City                 CountyName  Average RE Prices  \\\n",
       "0       00602    AL      Auburn                 Lee County        114105.2500   \n",
       "1       00606    MO      Neosho              Newton County         59377.7500   \n",
       "2       00610    KY      Anasco                Pike County        108219.5833   \n",
       "3       00617    AL      Imbery              Coffee County        101022.0000   \n",
       "4       00693    PA  Greensburg        Westmoreland County        330761.5000   \n",
       "...       ...   ...         ...                        ...                ...   \n",
       "29733   99827    AK      Haines             Haines Borough        211487.0000   \n",
       "29734   99833    AK  Petersburg         Petersburg Borough        254642.9167   \n",
       "29735   99835    AK       Sitka              Sitka Borough        402391.3333   \n",
       "29736   99901    AK   Ketchikan  Ketchikan Gateway Borough        294448.8333   \n",
       "29737   99929    AK    Wrangell           Wrangell Borough        215225.5833   \n",
       "\n",
       "       Income per capita  Median Age Male  Median Age Female  \\\n",
       "0                 9277.0             41.9               42.8   \n",
       "1                 5943.0             43.2               43.4   \n",
       "2                10220.0             40.4               44.2   \n",
       "3                 9122.0             39.2               41.0   \n",
       "4                10536.0             39.2               41.9   \n",
       "...                  ...              ...                ...   \n",
       "29733            33387.0             45.2               45.8   \n",
       "29734            33227.0             39.3               42.7   \n",
       "29735            38423.0             37.2               40.5   \n",
       "29736            34886.0             39.4               39.9   \n",
       "29737            31489.0             51.6               48.3   \n",
       "\n",
       "       Bachelor's degree > 25  Public transportation  \n",
       "0                    0.134690               0.002796  \n",
       "1                    0.068866               0.000000  \n",
       "2                    0.130349               0.002741  \n",
       "3                    0.157224               0.005154  \n",
       "4                    0.148064               0.006750  \n",
       "...                       ...                    ...  \n",
       "29733                0.229525               0.002308  \n",
       "29734                0.219672               0.009211  \n",
       "29735                0.204494               0.010178  \n",
       "29736                0.170142               0.035648  \n",
       "29737                0.140267               0.006635  \n",
       "\n",
       "[29738 rows x 10 columns]"
      ]
     },
     "execution_count": 2,
     "metadata": {},
     "output_type": "execute_result"
    }
   ],
   "source": [
    "# Read the data\n",
    "data = pd.read_csv(\"data/Master.csv\",encoding=\"ISO-8859-1\",converters={'zipcode': lambda x: str(x)})\n",
    "data"
   ]
  },
  {
   "cell_type": "code",
   "execution_count": 3,
   "metadata": {},
   "outputs": [
    {
     "data": {
      "text/html": [
       "<div>\n",
       "<style scoped>\n",
       "    .dataframe tbody tr th:only-of-type {\n",
       "        vertical-align: middle;\n",
       "    }\n",
       "\n",
       "    .dataframe tbody tr th {\n",
       "        vertical-align: top;\n",
       "    }\n",
       "\n",
       "    .dataframe thead th {\n",
       "        text-align: right;\n",
       "    }\n",
       "</style>\n",
       "<table border=\"1\" class=\"dataframe\">\n",
       "  <thead>\n",
       "    <tr style=\"text-align: right;\">\n",
       "      <th></th>\n",
       "      <th>Average RE Prices</th>\n",
       "      <th>Income per capita</th>\n",
       "      <th>Median Age Male</th>\n",
       "      <th>Median Age Female</th>\n",
       "      <th>Bachelor's degree &gt; 25</th>\n",
       "      <th>Public transportation</th>\n",
       "    </tr>\n",
       "    <tr>\n",
       "      <th>zipcode</th>\n",
       "      <th></th>\n",
       "      <th></th>\n",
       "      <th></th>\n",
       "      <th></th>\n",
       "      <th></th>\n",
       "      <th></th>\n",
       "    </tr>\n",
       "  </thead>\n",
       "  <tbody>\n",
       "    <tr>\n",
       "      <th>00602</th>\n",
       "      <td>114105.2500</td>\n",
       "      <td>9277.0</td>\n",
       "      <td>41.9</td>\n",
       "      <td>42.8</td>\n",
       "      <td>0.134690</td>\n",
       "      <td>0.002796</td>\n",
       "    </tr>\n",
       "    <tr>\n",
       "      <th>00606</th>\n",
       "      <td>59377.7500</td>\n",
       "      <td>5943.0</td>\n",
       "      <td>43.2</td>\n",
       "      <td>43.4</td>\n",
       "      <td>0.068866</td>\n",
       "      <td>0.000000</td>\n",
       "    </tr>\n",
       "    <tr>\n",
       "      <th>00610</th>\n",
       "      <td>108219.5833</td>\n",
       "      <td>10220.0</td>\n",
       "      <td>40.4</td>\n",
       "      <td>44.2</td>\n",
       "      <td>0.130349</td>\n",
       "      <td>0.002741</td>\n",
       "    </tr>\n",
       "    <tr>\n",
       "      <th>00617</th>\n",
       "      <td>101022.0000</td>\n",
       "      <td>9122.0</td>\n",
       "      <td>39.2</td>\n",
       "      <td>41.0</td>\n",
       "      <td>0.157224</td>\n",
       "      <td>0.005154</td>\n",
       "    </tr>\n",
       "    <tr>\n",
       "      <th>00693</th>\n",
       "      <td>330761.5000</td>\n",
       "      <td>10536.0</td>\n",
       "      <td>39.2</td>\n",
       "      <td>41.9</td>\n",
       "      <td>0.148064</td>\n",
       "      <td>0.006750</td>\n",
       "    </tr>\n",
       "    <tr>\n",
       "      <th>...</th>\n",
       "      <td>...</td>\n",
       "      <td>...</td>\n",
       "      <td>...</td>\n",
       "      <td>...</td>\n",
       "      <td>...</td>\n",
       "      <td>...</td>\n",
       "    </tr>\n",
       "    <tr>\n",
       "      <th>99827</th>\n",
       "      <td>211487.0000</td>\n",
       "      <td>33387.0</td>\n",
       "      <td>45.2</td>\n",
       "      <td>45.8</td>\n",
       "      <td>0.229525</td>\n",
       "      <td>0.002308</td>\n",
       "    </tr>\n",
       "    <tr>\n",
       "      <th>99833</th>\n",
       "      <td>254642.9167</td>\n",
       "      <td>33227.0</td>\n",
       "      <td>39.3</td>\n",
       "      <td>42.7</td>\n",
       "      <td>0.219672</td>\n",
       "      <td>0.009211</td>\n",
       "    </tr>\n",
       "    <tr>\n",
       "      <th>99835</th>\n",
       "      <td>402391.3333</td>\n",
       "      <td>38423.0</td>\n",
       "      <td>37.2</td>\n",
       "      <td>40.5</td>\n",
       "      <td>0.204494</td>\n",
       "      <td>0.010178</td>\n",
       "    </tr>\n",
       "    <tr>\n",
       "      <th>99901</th>\n",
       "      <td>294448.8333</td>\n",
       "      <td>34886.0</td>\n",
       "      <td>39.4</td>\n",
       "      <td>39.9</td>\n",
       "      <td>0.170142</td>\n",
       "      <td>0.035648</td>\n",
       "    </tr>\n",
       "    <tr>\n",
       "      <th>99929</th>\n",
       "      <td>215225.5833</td>\n",
       "      <td>31489.0</td>\n",
       "      <td>51.6</td>\n",
       "      <td>48.3</td>\n",
       "      <td>0.140267</td>\n",
       "      <td>0.006635</td>\n",
       "    </tr>\n",
       "  </tbody>\n",
       "</table>\n",
       "<p>29738 rows × 6 columns</p>\n",
       "</div>"
      ],
      "text/plain": [
       "         Average RE Prices  Income per capita  Median Age Male  \\\n",
       "zipcode                                                          \n",
       "00602          114105.2500             9277.0             41.9   \n",
       "00606           59377.7500             5943.0             43.2   \n",
       "00610          108219.5833            10220.0             40.4   \n",
       "00617          101022.0000             9122.0             39.2   \n",
       "00693          330761.5000            10536.0             39.2   \n",
       "...                    ...                ...              ...   \n",
       "99827          211487.0000            33387.0             45.2   \n",
       "99833          254642.9167            33227.0             39.3   \n",
       "99835          402391.3333            38423.0             37.2   \n",
       "99901          294448.8333            34886.0             39.4   \n",
       "99929          215225.5833            31489.0             51.6   \n",
       "\n",
       "         Median Age Female  Bachelor's degree > 25  Public transportation  \n",
       "zipcode                                                                    \n",
       "00602                 42.8                0.134690               0.002796  \n",
       "00606                 43.4                0.068866               0.000000  \n",
       "00610                 44.2                0.130349               0.002741  \n",
       "00617                 41.0                0.157224               0.005154  \n",
       "00693                 41.9                0.148064               0.006750  \n",
       "...                    ...                     ...                    ...  \n",
       "99827                 45.8                0.229525               0.002308  \n",
       "99833                 42.7                0.219672               0.009211  \n",
       "99835                 40.5                0.204494               0.010178  \n",
       "99901                 39.9                0.170142               0.035648  \n",
       "99929                 48.3                0.140267               0.006635  \n",
       "\n",
       "[29738 rows x 6 columns]"
      ]
     },
     "execution_count": 3,
     "metadata": {},
     "output_type": "execute_result"
    }
   ],
   "source": [
    "data.drop(columns=['State','City','CountyName'],inplace = True)\n",
    "data.set_index('zipcode',inplace=True)\n",
    "data"
   ]
  },
  {
   "cell_type": "code",
   "execution_count": 4,
   "metadata": {
    "scrolled": true
   },
   "outputs": [
    {
     "data": {
      "text/plain": [
       "Average RE Prices         float64\n",
       "Income per capita         float64\n",
       "Median Age Male           float64\n",
       "Median Age Female         float64\n",
       "Bachelor's degree > 25    float64\n",
       "Public transportation     float64\n",
       "dtype: object"
      ]
     },
     "execution_count": 4,
     "metadata": {},
     "output_type": "execute_result"
    }
   ],
   "source": [
    "# Assess data types\n",
    "data.dtypes"
   ]
  },
  {
   "cell_type": "code",
   "execution_count": 5,
   "metadata": {},
   "outputs": [
    {
     "data": {
      "text/plain": [
       "True"
      ]
     },
     "execution_count": 5,
     "metadata": {},
     "output_type": "execute_result"
    }
   ],
   "source": [
    "# Find any Nan\n",
    "data.isnull().values.any()"
   ]
  },
  {
   "cell_type": "code",
   "execution_count": 6,
   "metadata": {},
   "outputs": [],
   "source": [
    "data.dropna( inplace=True)"
   ]
  },
  {
   "cell_type": "code",
   "execution_count": 7,
   "metadata": {},
   "outputs": [
    {
     "data": {
      "text/plain": [
       "False"
      ]
     },
     "execution_count": 7,
     "metadata": {},
     "output_type": "execute_result"
    }
   ],
   "source": [
    "data.isnull().values.any()"
   ]
  },
  {
   "cell_type": "code",
   "execution_count": 8,
   "metadata": {},
   "outputs": [
    {
     "data": {
      "text/plain": [
       "Text(0.5, 0, 'Attributes')"
      ]
     },
     "execution_count": 8,
     "metadata": {},
     "output_type": "execute_result"
    },
    {
     "data": {
      "image/png": "[encoded data removed]",
      "text/plain": [
       "<Figure size 720x576 with 1 Axes>"
      ]
     },
     "metadata": {},
     "output_type": "display_data"
    }
   ],
   "source": [
    "# Outlier Analysis \n",
    "attributes = ['Average RE Prices','Income per capita','Median Age Male','Median Age Female',\"Bachelor's degree > 25\",'Public transportation']\n",
    "plt.rcParams['figure.figsize'] = [10,8]\n",
    "sns.boxplot(data = data[attributes], orient=\"v\", palette=\"Set2\" ,whis=1.5,saturation=1, width=0.7)\n",
    "plt.title(\"Outliers Variable Distribution\", fontsize = 14, fontweight = 'bold')\n",
    "plt.ylabel(\"Range\", fontweight = 'bold')\n",
    "plt.xlabel(\"Attributes\", fontweight = 'bold')"
   ]
  },
  {
   "cell_type": "code",
   "execution_count": 9,
   "metadata": {},
   "outputs": [],
   "source": [
    "#Remove outliers\n",
    "Q1 = data['Median Age Male'].quantile(0.05)\n",
    "Q3 = data['Median Age Male'].quantile(0.95)\n",
    "IQR = Q3 - Q1\n",
    "data = data[(data['Median Age Male'] >= Q1 - 1.5*IQR) & (data['Median Age Male'] <= Q3 + 1.5*IQR)]\n",
    "\n",
    "Q1 = data['Median Age Female'].quantile(0.05)\n",
    "Q3 = data['Median Age Female'].quantile(0.95)\n",
    "IQR = Q3 - Q1\n",
    "data = data[(data['Median Age Female'] >= Q1 - 1.5*IQR) & (data['Median Age Female'] <= Q3 + 1.5*IQR)]"
   ]
  },
  {
   "cell_type": "code",
   "execution_count": 10,
   "metadata": {},
   "outputs": [],
   "source": [
    "# Scale features\n",
    "from sklearn.preprocessing import MinMaxScaler\n",
    "mms = MinMaxScaler()\n",
    "mms.fit(data)\n",
    "data_transformed = mms.transform(data)"
   ]
  },
  {
   "cell_type": "code",
   "execution_count": 11,
   "metadata": {},
   "outputs": [],
   "source": [
    "# Initialize k-means\n",
    "Sum_of_squared_distances = []\n",
    "K = range(1,15)\n",
    "for k in K:\n",
    "    km = KMeans(n_clusters=k)\n",
    "    km = km.fit(data_transformed)\n",
    "    Sum_of_squared_distances.append(km.inertia_)"
   ]
  },
  {
   "cell_type": "code",
   "execution_count": 12,
   "metadata": {},
   "outputs": [
    {
     "name": "stdout",
     "output_type": "stream",
     "text": [
      "For n_clusters=2, the silhouette score is 0.27067223331924145\n",
      "For n_clusters=3, the silhouette score is 0.3022827801969843\n",
      "For n_clusters=4, the silhouette score is 0.2545468650305984\n",
      "For n_clusters=5, the silhouette score is 0.2725872581190862\n",
      "For n_clusters=6, the silhouette score is 0.2570046071159548\n",
      "For n_clusters=7, the silhouette score is 0.2221354822598315\n",
      "For n_clusters=8, the silhouette score is 0.2258192491449257\n"
     ]
    }
   ],
   "source": [
    "from sklearn.metrics import silhouette_score\n",
    "# Silhouette analysis\n",
    "range_n_clusters = [2, 3, 4, 5, 6, 7, 8]\n",
    "\n",
    "for num_clusters in range_n_clusters:\n",
    "    \n",
    "    # intialise kmeans\n",
    "    kmeans = KMeans(n_clusters=num_clusters, max_iter=50)\n",
    "    kmeans.fit(data_transformed)\n",
    "    \n",
    "    cluster_labels = kmeans.labels_\n",
    "    \n",
    "    # silhouette score\n",
    "    silhouette_avg = silhouette_score(data_transformed, cluster_labels)\n",
    "    print(\"For n_clusters={0}, the silhouette score is {1}\".format(num_clusters, silhouette_avg))"
   ]
  },
  {
   "cell_type": "code",
   "execution_count": 13,
   "metadata": {
    "scrolled": false
   },
   "outputs": [
    {
     "data": {
      "image/png": "[encoded data removed]",
      "text/plain": [
       "<Figure size 720x576 with 1 Axes>"
      ]
     },
     "metadata": {},
     "output_type": "display_data"
    }
   ],
   "source": [
    "# Determine optimal clusters\n",
    "plt.plot(K, Sum_of_squared_distances, 'bx-')\n",
    "plt.xlabel('k')\n",
    "plt.ylabel('Sum_of_squared_distances')\n",
    "plt.title('Elbow Method For Optimal k')\n",
    "plt.show()"
   ]
  },
  {
   "cell_type": "code",
   "execution_count": 14,
   "metadata": {},
   "outputs": [],
   "source": [
    "# We chose 3 clusters\n",
    "from sklearn.cluster import KMeans\n",
    "kmeans = KMeans(n_clusters=3)"
   ]
  },
  {
   "cell_type": "code",
   "execution_count": 15,
   "metadata": {},
   "outputs": [],
   "source": [
    "# Perform prediction\n",
    "data_predict = data['clusters'] = kmeans.fit_predict(data)"
   ]
  },
  {
   "cell_type": "code",
   "execution_count": 16,
   "metadata": {},
   "outputs": [
    {
     "data": {
      "text/plain": [
       "array([0, 0, 0, ..., 2, 0, 0], dtype=int32)"
      ]
     },
     "execution_count": 16,
     "metadata": {},
     "output_type": "execute_result"
    }
   ],
   "source": [
    "data_predict"
   ]
  },
  {
   "cell_type": "code",
   "execution_count": 17,
   "metadata": {},
   "outputs": [
    {
     "data": {
      "text/html": [
       "<div>\n",
       "<style scoped>\n",
       "    .dataframe tbody tr th:only-of-type {\n",
       "        vertical-align: middle;\n",
       "    }\n",
       "\n",
       "    .dataframe tbody tr th {\n",
       "        vertical-align: top;\n",
       "    }\n",
       "\n",
       "    .dataframe thead th {\n",
       "        text-align: right;\n",
       "    }\n",
       "</style>\n",
       "<table border=\"1\" class=\"dataframe\">\n",
       "  <thead>\n",
       "    <tr style=\"text-align: right;\">\n",
       "      <th></th>\n",
       "      <th>Average RE Prices</th>\n",
       "      <th>Income per capita</th>\n",
       "      <th>Median Age Male</th>\n",
       "      <th>Median Age Female</th>\n",
       "      <th>Bachelor's degree &gt; 25</th>\n",
       "      <th>Public transportation</th>\n",
       "      <th>clusters</th>\n",
       "    </tr>\n",
       "    <tr>\n",
       "      <th>zipcode</th>\n",
       "      <th></th>\n",
       "      <th></th>\n",
       "      <th></th>\n",
       "      <th></th>\n",
       "      <th></th>\n",
       "      <th></th>\n",
       "      <th></th>\n",
       "    </tr>\n",
       "  </thead>\n",
       "  <tbody>\n",
       "    <tr>\n",
       "      <th>00602</th>\n",
       "      <td>114105.2500</td>\n",
       "      <td>9277.0</td>\n",
       "      <td>41.9</td>\n",
       "      <td>42.8</td>\n",
       "      <td>0.134690</td>\n",
       "      <td>0.002796</td>\n",
       "      <td>0</td>\n",
       "    </tr>\n",
       "    <tr>\n",
       "      <th>00606</th>\n",
       "      <td>59377.7500</td>\n",
       "      <td>5943.0</td>\n",
       "      <td>43.2</td>\n",
       "      <td>43.4</td>\n",
       "      <td>0.068866</td>\n",
       "      <td>0.000000</td>\n",
       "      <td>0</td>\n",
       "    </tr>\n",
       "    <tr>\n",
       "      <th>00610</th>\n",
       "      <td>108219.5833</td>\n",
       "      <td>10220.0</td>\n",
       "      <td>40.4</td>\n",
       "      <td>44.2</td>\n",
       "      <td>0.130349</td>\n",
       "      <td>0.002741</td>\n",
       "      <td>0</td>\n",
       "    </tr>\n",
       "    <tr>\n",
       "      <th>00617</th>\n",
       "      <td>101022.0000</td>\n",
       "      <td>9122.0</td>\n",
       "      <td>39.2</td>\n",
       "      <td>41.0</td>\n",
       "      <td>0.157224</td>\n",
       "      <td>0.005154</td>\n",
       "      <td>0</td>\n",
       "    </tr>\n",
       "    <tr>\n",
       "      <th>00693</th>\n",
       "      <td>330761.5000</td>\n",
       "      <td>10536.0</td>\n",
       "      <td>39.2</td>\n",
       "      <td>41.9</td>\n",
       "      <td>0.148064</td>\n",
       "      <td>0.006750</td>\n",
       "      <td>2</td>\n",
       "    </tr>\n",
       "    <tr>\n",
       "      <th>...</th>\n",
       "      <td>...</td>\n",
       "      <td>...</td>\n",
       "      <td>...</td>\n",
       "      <td>...</td>\n",
       "      <td>...</td>\n",
       "      <td>...</td>\n",
       "      <td>...</td>\n",
       "    </tr>\n",
       "    <tr>\n",
       "      <th>99827</th>\n",
       "      <td>211487.0000</td>\n",
       "      <td>33387.0</td>\n",
       "      <td>45.2</td>\n",
       "      <td>45.8</td>\n",
       "      <td>0.229525</td>\n",
       "      <td>0.002308</td>\n",
       "      <td>0</td>\n",
       "    </tr>\n",
       "    <tr>\n",
       "      <th>99833</th>\n",
       "      <td>254642.9167</td>\n",
       "      <td>33227.0</td>\n",
       "      <td>39.3</td>\n",
       "      <td>42.7</td>\n",
       "      <td>0.219672</td>\n",
       "      <td>0.009211</td>\n",
       "      <td>0</td>\n",
       "    </tr>\n",
       "    <tr>\n",
       "      <th>99835</th>\n",
       "      <td>402391.3333</td>\n",
       "      <td>38423.0</td>\n",
       "      <td>37.2</td>\n",
       "      <td>40.5</td>\n",
       "      <td>0.204494</td>\n",
       "      <td>0.010178</td>\n",
       "      <td>2</td>\n",
       "    </tr>\n",
       "    <tr>\n",
       "      <th>99901</th>\n",
       "      <td>294448.8333</td>\n",
       "      <td>34886.0</td>\n",
       "      <td>39.4</td>\n",
       "      <td>39.9</td>\n",
       "      <td>0.170142</td>\n",
       "      <td>0.035648</td>\n",
       "      <td>0</td>\n",
       "    </tr>\n",
       "    <tr>\n",
       "      <th>99929</th>\n",
       "      <td>215225.5833</td>\n",
       "      <td>31489.0</td>\n",
       "      <td>51.6</td>\n",
       "      <td>48.3</td>\n",
       "      <td>0.140267</td>\n",
       "      <td>0.006635</td>\n",
       "      <td>0</td>\n",
       "    </tr>\n",
       "  </tbody>\n",
       "</table>\n",
       "<p>29230 rows × 7 columns</p>\n",
       "</div>"
      ],
      "text/plain": [
       "         Average RE Prices  Income per capita  Median Age Male  \\\n",
       "zipcode                                                          \n",
       "00602          114105.2500             9277.0             41.9   \n",
       "00606           59377.7500             5943.0             43.2   \n",
       "00610          108219.5833            10220.0             40.4   \n",
       "00617          101022.0000             9122.0             39.2   \n",
       "00693          330761.5000            10536.0             39.2   \n",
       "...                    ...                ...              ...   \n",
       "99827          211487.0000            33387.0             45.2   \n",
       "99833          254642.9167            33227.0             39.3   \n",
       "99835          402391.3333            38423.0             37.2   \n",
       "99901          294448.8333            34886.0             39.4   \n",
       "99929          215225.5833            31489.0             51.6   \n",
       "\n",
       "         Median Age Female  Bachelor's degree > 25  Public transportation  \\\n",
       "zipcode                                                                     \n",
       "00602                 42.8                0.134690               0.002796   \n",
       "00606                 43.4                0.068866               0.000000   \n",
       "00610                 44.2                0.130349               0.002741   \n",
       "00617                 41.0                0.157224               0.005154   \n",
       "00693                 41.9                0.148064               0.006750   \n",
       "...                    ...                     ...                    ...   \n",
       "99827                 45.8                0.229525               0.002308   \n",
       "99833                 42.7                0.219672               0.009211   \n",
       "99835                 40.5                0.204494               0.010178   \n",
       "99901                 39.9                0.170142               0.035648   \n",
       "99929                 48.3                0.140267               0.006635   \n",
       "\n",
       "         clusters  \n",
       "zipcode            \n",
       "00602           0  \n",
       "00606           0  \n",
       "00610           0  \n",
       "00617           0  \n",
       "00693           2  \n",
       "...           ...  \n",
       "99827           0  \n",
       "99833           0  \n",
       "99835           2  \n",
       "99901           0  \n",
       "99929           0  \n",
       "\n",
       "[29230 rows x 7 columns]"
      ]
     },
     "execution_count": 17,
     "metadata": {},
     "output_type": "execute_result"
    }
   ],
   "source": [
    "# View cluster predictions\n",
    "data"
   ]
  },
  {
   "cell_type": "code",
   "execution_count": 18,
   "metadata": {
    "scrolled": false
   },
   "outputs": [
    {
     "data": {
      "text/plain": [
       "<AxesSubplot:xlabel='clusters', ylabel='Average RE Prices'>"
      ]
     },
     "execution_count": 18,
     "metadata": {},
     "output_type": "execute_result"
    },
    {
     "data": {
      "image/png": "[encoded data removed]",
      "text/plain": [
       "<Figure size 720x576 with 1 Axes>"
      ]
     },
     "metadata": {},
     "output_type": "display_data"
    }
   ],
   "source": [
    "sns.boxplot(x=\"clusters\", y=\"Average RE Prices\", data=data)"
   ]
  },
  {
   "cell_type": "code",
   "execution_count": 19,
   "metadata": {
    "scrolled": false
   },
   "outputs": [
    {
     "data": {
      "text/plain": [
       "<AxesSubplot:xlabel='clusters', ylabel='Income per capita'>"
      ]
     },
     "execution_count": 19,
     "metadata": {},
     "output_type": "execute_result"
    },
    {
     "data": {
      "image/png": "[encoded data removed]",
      "text/plain": [
       "<Figure size 720x576 with 1 Axes>"
      ]
     },
     "metadata": {},
     "output_type": "display_data"
    }
   ],
   "source": [
    "sns.boxplot(x=\"clusters\", y=\"Income per capita\", data=data)"
   ]
  },
  {
   "cell_type": "code",
   "execution_count": 20,
   "metadata": {
    "scrolled": false
   },
   "outputs": [
    {
     "data": {
      "text/plain": [
       "<AxesSubplot:xlabel='clusters', ylabel='Median Age Male'>"
      ]
     },
     "execution_count": 20,
     "metadata": {},
     "output_type": "execute_result"
    },
    {
     "data": {
      "image/png": "[encoded data removed]",
      "text/plain": [
       "<Figure size 720x576 with 1 Axes>"
      ]
     },
     "metadata": {},
     "output_type": "display_data"
    }
   ],
   "source": [
    "sns.boxplot(x=\"clusters\", y=\"Median Age Male\", data=data)"
   ]
  },
  {
   "cell_type": "code",
   "execution_count": 21,
   "metadata": {
    "scrolled": false
   },
   "outputs": [
    {
     "data": {
      "text/plain": [
       "<AxesSubplot:xlabel='clusters', ylabel='Median Age Female'>"
      ]
     },
     "execution_count": 21,
     "metadata": {},
     "output_type": "execute_result"
    },
    {
     "data": {
      "image/png": "[encoded data removed]",
      "text/plain": [
       "<Figure size 720x576 with 1 Axes>"
      ]
     },
     "metadata": {},
     "output_type": "display_data"
    }
   ],
   "source": [
    "sns.boxplot(x=\"clusters\", y=\"Median Age Female\", data=data)"
   ]
  },
  {
   "cell_type": "code",
   "execution_count": 22,
   "metadata": {
    "scrolled": false
   },
   "outputs": [
    {
     "data": {
      "text/plain": [
       "<AxesSubplot:xlabel='clusters', ylabel=\"Bachelor's degree > 25\">"
      ]
     },
     "execution_count": 22,
     "metadata": {},
     "output_type": "execute_result"
    },
    {
     "data": {
      "image/png": "[encoded data removed]",
      "text/plain": [
       "<Figure size 720x576 with 1 Axes>"
      ]
     },
     "metadata": {},
     "output_type": "display_data"
    }
   ],
   "source": [
    "sns.boxplot(x=\"clusters\", y=\"Bachelor's degree > 25\", data=data)"
   ]
  },
  {
   "cell_type": "code",
   "execution_count": 23,
   "metadata": {
    "scrolled": false
   },
   "outputs": [
    {
     "data": {
      "text/plain": [
       "<AxesSubplot:xlabel='clusters', ylabel='Public transportation'>"
      ]
     },
     "execution_count": 23,
     "metadata": {},
     "output_type": "execute_result"
    },
    {
     "data": {
      "image/png": "[encoded data removed]",
      "text/plain": [
       "<Figure size 720x576 with 1 Axes>"
      ]
     },
     "metadata": {},
     "output_type": "display_data"
    }
   ],
   "source": [
    "sns.boxplot(x=\"clusters\", y=\"Public transportation\", data=data)"
   ]
  },
  {
   "cell_type": "code",
   "execution_count": 24,
   "metadata": {},
   "outputs": [],
   "source": [
    "# Export to csv for manual assessment\n",
    "data.to_csv('data/cluster_predict.csv')"
   ]
  },
  {
   "cell_type": "code",
   "execution_count": null,
   "metadata": {},
   "outputs": [],
   "source": []
  }
 ],
 "metadata": {
  "kernelspec": {
   "display_name": "Python 3",
   "language": "python",
   "name": "python3"
  },
  "language_info": {
   "codemirror_mode": {
    "name": "ipython",
    "version": 3
   },
   "file_extension": ".py",
   "mimetype": "text/x-python",
   "name": "python",
   "nbconvert_exporter": "python",
   "pygments_lexer": "ipython3",
   "version": "3.8.5"
  }
 },
 "nbformat": 4,
 "nbformat_minor": 2
}
