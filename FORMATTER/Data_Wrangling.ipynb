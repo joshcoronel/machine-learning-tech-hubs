{
 "cells": [
  {
   "cell_type": "code",
   "execution_count": 9,
   "metadata": {},
   "outputs": [],
   "source": [
    "# Dependencies\n",
    "import pandas as pd\n",
    "import json\n",
    "import csv\n",
    "import requests"
   ]
  },
  {
   "cell_type": "code",
   "execution_count": 10,
   "metadata": {},
   "outputs": [
    {
     "output_type": "execute_result",
     "data": {
      "text/plain": [
       "          Income per capita  Median Age Male  Median Age Female  \\\n",
       "Zip Code                                                          \n",
       "00601                6999.0             39.5               41.3   \n",
       "00602                9277.0             41.9               42.8   \n",
       "00603               11307.0             39.1               42.9   \n",
       "00606                5943.0             43.2               43.4   \n",
       "00610               10220.0             40.4               44.2   \n",
       "\n",
       "          Bachelor's degree > 25  Median Home Value  Public transportation  \n",
       "Zip Code                                                                    \n",
       "00601                   0.150448              86200               0.000000  \n",
       "00602                   0.134690              86300               0.002796  \n",
       "00603                   0.171792             122400               0.002939  \n",
       "00606                   0.068866              91600               0.000000  \n",
       "00610                   0.130349              88600               0.002741  "
      ],
      "text/html": "<div>\n<style scoped>\n    .dataframe tbody tr th:only-of-type {\n        vertical-align: middle;\n    }\n\n    .dataframe tbody tr th {\n        vertical-align: top;\n    }\n\n    .dataframe thead th {\n        text-align: right;\n    }\n</style>\n<table border=\"1\" class=\"dataframe\">\n  <thead>\n    <tr style=\"text-align: right;\">\n      <th></th>\n      <th>Income per capita</th>\n      <th>Median Age Male</th>\n      <th>Median Age Female</th>\n      <th>Bachelor's degree &gt; 25</th>\n      <th>Median Home Value</th>\n      <th>Public transportation</th>\n    </tr>\n    <tr>\n      <th>Zip Code</th>\n      <th></th>\n      <th></th>\n      <th></th>\n      <th></th>\n      <th></th>\n      <th></th>\n    </tr>\n  </thead>\n  <tbody>\n    <tr>\n      <th>00601</th>\n      <td>6999.0</td>\n      <td>39.5</td>\n      <td>41.3</td>\n      <td>0.150448</td>\n      <td>86200</td>\n      <td>0.000000</td>\n    </tr>\n    <tr>\n      <th>00602</th>\n      <td>9277.0</td>\n      <td>41.9</td>\n      <td>42.8</td>\n      <td>0.134690</td>\n      <td>86300</td>\n      <td>0.002796</td>\n    </tr>\n    <tr>\n      <th>00603</th>\n      <td>11307.0</td>\n      <td>39.1</td>\n      <td>42.9</td>\n      <td>0.171792</td>\n      <td>122400</td>\n      <td>0.002939</td>\n    </tr>\n    <tr>\n      <th>00606</th>\n      <td>5943.0</td>\n      <td>43.2</td>\n      <td>43.4</td>\n      <td>0.068866</td>\n      <td>91600</td>\n      <td>0.000000</td>\n    </tr>\n    <tr>\n      <th>00610</th>\n      <td>10220.0</td>\n      <td>40.4</td>\n      <td>44.2</td>\n      <td>0.130349</td>\n      <td>88600</td>\n      <td>0.002741</td>\n    </tr>\n  </tbody>\n</table>\n</div>"
     },
     "metadata": {},
     "execution_count": 10
    }
   ],
   "source": [
    "def create_url(base_url, tables, geo):\n",
    "    return f\"{base_url}?get={tables}&for={geo}\"\n",
    "\n",
    "HOST = \"https://api.census.gov/data\"\n",
    "year = \"2018\"\n",
    "dataset = \"acs/acs5\"\n",
    "base_url = \"/\".join([HOST, year, dataset])\n",
    "tables = {\"B19301_001E\":\"Income per capita\",\n",
    "            \"B01002_002E\":\"Median Age Male\",\n",
    "            \"B01002_003E\":\"Median Age Female\",\n",
    "            \"B15003_022E\":\"Bachelor's degree > 25\", \n",
    "            \"B15003_001E\":\"Total Education\",# Will need to divide by total pop >25 B15003_001E\n",
    "            \"B25077_001E\":\"Median Home Value\",\n",
    "            \"B08301_010E\":\"Public transportation\",\n",
    "            \"B08301_001E\":\"Total transportation\"} # Will need to divide by total B08301_001E\n",
    "\n",
    "table_str = \",\".join(tables.keys())\n",
    "geo = \"zip%20code%20tabulation%20area:*\"\n",
    "\n",
    "url = create_url(base_url,table_str,geo)\n",
    "r = requests.get(url)\n",
    "\n",
    "# Create a list of human-readable text\n",
    "col_names = list(tables.values())\n",
    "col_names.append(\"Zip Code\")\n",
    "\n",
    "df_CEN = pd.DataFrame(columns = col_names, data = r.json()[1:])\n",
    "\n",
    "# Set zip code to index\n",
    "df_CEN.set_index(\"Zip Code\",inplace=True)\n",
    "\n",
    "# Convert columns to a numeric data types\n",
    "df_CEN = df_CEN.apply(pd.to_numeric,errors=\"coerce\")\n",
    "\n",
    "# Convert education and transportation to a percentage of the population\n",
    "df_CEN[\"Bachelor's degree > 25\"] = df_CEN[\"Bachelor's degree > 25\"]/df_CEN[\"Total Education\"]\n",
    "df_CEN[\"Public transportation\"] = df_CEN[\"Public transportation\"]/df_CEN[\"Total transportation\"]\n",
    "df_CEN.drop([\"Total Education\",\"Total transportation\"],axis=1, inplace=True)\n",
    "df_CEN.head()"
   ]
  },
  {
   "cell_type": "code",
   "execution_count": 3,
   "metadata": {},
   "outputs": [],
   "source": [
    "#df_CEN.to_csv(\"Resources/census.csv\")"
   ]
  },
  {
   "cell_type": "code",
   "execution_count": 26,
   "metadata": {},
   "outputs": [
    {
     "output_type": "execute_result",
     "data": {
      "text/plain": [
       "      Zip Code State        City                        Metro  \\\n",
       "0        00501    NY  Holtsville  New York-Newark-Jersey City   \n",
       "1        00602    AL      Auburn               Auburn-Opelika   \n",
       "2        00605    AL   Aguadilla                       Dothan   \n",
       "3        00606    MO      Neosho                       Joplin   \n",
       "4        00610    KY      Anasco                          NaN   \n",
       "...        ...   ...         ...                          ...   \n",
       "30362    99827    AK      Haines                          NaN   \n",
       "30363    99833    AK  Petersburg                          NaN   \n",
       "30364    99835    AK       Sitka                          NaN   \n",
       "30365    99901    AK   Ketchikan                    Ketchikan   \n",
       "30366    99929    AK    Wrangell                          NaN   \n",
       "\n",
       "                      CountyName Average RE Prices  \n",
       "0                 Suffolk County       128202.9167  \n",
       "1                     Lee County         114105.25  \n",
       "2                 Houston County       78791.83333  \n",
       "3                  Newton County          59377.75  \n",
       "4                    Pike County       108219.5833  \n",
       "...                          ...               ...  \n",
       "30362             Haines Borough            211487  \n",
       "30363         Petersburg Borough       254642.9167  \n",
       "30364              Sitka Borough       402391.3333  \n",
       "30365  Ketchikan Gateway Borough       294448.8333  \n",
       "30366           Wrangell Borough       215225.5833  \n",
       "\n",
       "[30367 rows x 6 columns]"
      ],
      "text/html": "<div>\n<style scoped>\n    .dataframe tbody tr th:only-of-type {\n        vertical-align: middle;\n    }\n\n    .dataframe tbody tr th {\n        vertical-align: top;\n    }\n\n    .dataframe thead th {\n        text-align: right;\n    }\n</style>\n<table border=\"1\" class=\"dataframe\">\n  <thead>\n    <tr style=\"text-align: right;\">\n      <th></th>\n      <th>Zip Code</th>\n      <th>State</th>\n      <th>City</th>\n      <th>Metro</th>\n      <th>CountyName</th>\n      <th>Average RE Prices</th>\n    </tr>\n  </thead>\n  <tbody>\n    <tr>\n      <th>0</th>\n      <td>00501</td>\n      <td>NY</td>\n      <td>Holtsville</td>\n      <td>New York-Newark-Jersey City</td>\n      <td>Suffolk County</td>\n      <td>128202.9167</td>\n    </tr>\n    <tr>\n      <th>1</th>\n      <td>00602</td>\n      <td>AL</td>\n      <td>Auburn</td>\n      <td>Auburn-Opelika</td>\n      <td>Lee County</td>\n      <td>114105.25</td>\n    </tr>\n    <tr>\n      <th>2</th>\n      <td>00605</td>\n      <td>AL</td>\n      <td>Aguadilla</td>\n      <td>Dothan</td>\n      <td>Houston County</td>\n      <td>78791.83333</td>\n    </tr>\n    <tr>\n      <th>3</th>\n      <td>00606</td>\n      <td>MO</td>\n      <td>Neosho</td>\n      <td>Joplin</td>\n      <td>Newton County</td>\n      <td>59377.75</td>\n    </tr>\n    <tr>\n      <th>4</th>\n      <td>00610</td>\n      <td>KY</td>\n      <td>Anasco</td>\n      <td>NaN</td>\n      <td>Pike County</td>\n      <td>108219.5833</td>\n    </tr>\n    <tr>\n      <th>...</th>\n      <td>...</td>\n      <td>...</td>\n      <td>...</td>\n      <td>...</td>\n      <td>...</td>\n      <td>...</td>\n    </tr>\n    <tr>\n      <th>30362</th>\n      <td>99827</td>\n      <td>AK</td>\n      <td>Haines</td>\n      <td>NaN</td>\n      <td>Haines Borough</td>\n      <td>211487</td>\n    </tr>\n    <tr>\n      <th>30363</th>\n      <td>99833</td>\n      <td>AK</td>\n      <td>Petersburg</td>\n      <td>NaN</td>\n      <td>Petersburg Borough</td>\n      <td>254642.9167</td>\n    </tr>\n    <tr>\n      <th>30364</th>\n      <td>99835</td>\n      <td>AK</td>\n      <td>Sitka</td>\n      <td>NaN</td>\n      <td>Sitka Borough</td>\n      <td>402391.3333</td>\n    </tr>\n    <tr>\n      <th>30365</th>\n      <td>99901</td>\n      <td>AK</td>\n      <td>Ketchikan</td>\n      <td>Ketchikan</td>\n      <td>Ketchikan Gateway Borough</td>\n      <td>294448.8333</td>\n    </tr>\n    <tr>\n      <th>30366</th>\n      <td>99929</td>\n      <td>AK</td>\n      <td>Wrangell</td>\n      <td>NaN</td>\n      <td>Wrangell Borough</td>\n      <td>215225.5833</td>\n    </tr>\n  </tbody>\n</table>\n<p>30367 rows × 6 columns</p>\n</div>"
     },
     "metadata": {},
     "execution_count": 26
    }
   ],
   "source": [
    "#Filepaths\n",
    "RE = \"https://techhubml.s3.amazonaws.com/real_estate.csv\"\n",
    "CENSUS = \"https://techhubml.s3.amazonaws.com/census.csv\"\n",
    "\n",
    "#File paths to DF\n",
    "#REM to DF\n",
    "df_RE=pd.read_csv(RE, encoding=\"ISO-8859-1\", dtype=str)\n",
    "df_CEN=pd.read_csv(CENSUS, encoding=\"ISO-8859-1\", dtype=str)\n",
    "\n",
    "#View DFs\n",
    "df_RE\n",
    "# df_CEN\n",
    "\n",
    "#View Dtypes\n",
    "#print(df_RE.dtypes)\n",
    "# print(df_CEN.dtypes)\n"
   ]
  },
  {
   "cell_type": "code",
   "execution_count": 27,
   "metadata": {},
   "outputs": [
    {
     "output_type": "execute_result",
     "data": {
      "text/plain": [
       "      Zip Code State        City           Metro                 CountyName  \\\n",
       "0        00602    AL      Auburn  Auburn-Opelika                 Lee County   \n",
       "1        00606    MO      Neosho          Joplin              Newton County   \n",
       "2        00610    KY      Anasco             NaN                Pike County   \n",
       "3        00617    AL      Imbery      Enterprise              Coffee County   \n",
       "4        00693    PA  Greensburg      Pittsburgh        Westmoreland County   \n",
       "...        ...   ...         ...             ...                        ...   \n",
       "29733    99827    AK      Haines             NaN             Haines Borough   \n",
       "29734    99833    AK  Petersburg             NaN         Petersburg Borough   \n",
       "29735    99835    AK       Sitka             NaN              Sitka Borough   \n",
       "29736    99901    AK   Ketchikan       Ketchikan  Ketchikan Gateway Borough   \n",
       "29737    99929    AK    Wrangell             NaN           Wrangell Borough   \n",
       "\n",
       "      Average RE Prices Income per capita Median Age Male Median Age Female  \\\n",
       "0             114105.25            9277.0            41.9              42.8   \n",
       "1              59377.75            5943.0            43.2              43.4   \n",
       "2           108219.5833           10220.0            40.4              44.2   \n",
       "3                101022            9122.0            39.2              41.0   \n",
       "4              330761.5           10536.0            39.2              41.9   \n",
       "...                 ...               ...             ...               ...   \n",
       "29733            211487           33387.0            45.2              45.8   \n",
       "29734       254642.9167           33227.0            39.3              42.7   \n",
       "29735       402391.3333           38423.0            37.2              40.5   \n",
       "29736       294448.8333           34886.0            39.4              39.9   \n",
       "29737       215225.5833           31489.0            51.6              48.3   \n",
       "\n",
       "      Bachelor's degree > 25 Median Home Value  Public transportation  \n",
       "0         0.1346904527379519             86300  0.0027962250961202375  \n",
       "1        0.06886625332152348             91600                    0.0  \n",
       "2         0.1303485702358589             88600  0.0027410320581575495  \n",
       "3        0.15722396714182169            106100   0.005153723120668207  \n",
       "4         0.1480643208674369            107300    0.00675017397355602  \n",
       "...                      ...               ...                    ...  \n",
       "29733    0.22952529994783516            256200   0.002307692307692308  \n",
       "29734    0.21967213114754097            213100   0.009210526315789473  \n",
       "29735    0.20449365027678282            349300   0.010178117048346057  \n",
       "29736     0.1701417848206839            272300    0.03564781675017895  \n",
       "29737    0.14026666666666668            212600   0.006635071090047393  \n",
       "\n",
       "[29738 rows x 12 columns]"
      ],
      "text/html": "<div>\n<style scoped>\n    .dataframe tbody tr th:only-of-type {\n        vertical-align: middle;\n    }\n\n    .dataframe tbody tr th {\n        vertical-align: top;\n    }\n\n    .dataframe thead th {\n        text-align: right;\n    }\n</style>\n<table border=\"1\" class=\"dataframe\">\n  <thead>\n    <tr style=\"text-align: right;\">\n      <th></th>\n      <th>Zip Code</th>\n      <th>State</th>\n      <th>City</th>\n      <th>Metro</th>\n      <th>CountyName</th>\n      <th>Average RE Prices</th>\n      <th>Income per capita</th>\n      <th>Median Age Male</th>\n      <th>Median Age Female</th>\n      <th>Bachelor's degree &gt; 25</th>\n      <th>Median Home Value</th>\n      <th>Public transportation</th>\n    </tr>\n  </thead>\n  <tbody>\n    <tr>\n      <th>0</th>\n      <td>00602</td>\n      <td>AL</td>\n      <td>Auburn</td>\n      <td>Auburn-Opelika</td>\n      <td>Lee County</td>\n      <td>114105.25</td>\n      <td>9277.0</td>\n      <td>41.9</td>\n      <td>42.8</td>\n      <td>0.1346904527379519</td>\n      <td>86300</td>\n      <td>0.0027962250961202375</td>\n    </tr>\n    <tr>\n      <th>1</th>\n      <td>00606</td>\n      <td>MO</td>\n      <td>Neosho</td>\n      <td>Joplin</td>\n      <td>Newton County</td>\n      <td>59377.75</td>\n      <td>5943.0</td>\n      <td>43.2</td>\n      <td>43.4</td>\n      <td>0.06886625332152348</td>\n      <td>91600</td>\n      <td>0.0</td>\n    </tr>\n    <tr>\n      <th>2</th>\n      <td>00610</td>\n      <td>KY</td>\n      <td>Anasco</td>\n      <td>NaN</td>\n      <td>Pike County</td>\n      <td>108219.5833</td>\n      <td>10220.0</td>\n      <td>40.4</td>\n      <td>44.2</td>\n      <td>0.1303485702358589</td>\n      <td>88600</td>\n      <td>0.0027410320581575495</td>\n    </tr>\n    <tr>\n      <th>3</th>\n      <td>00617</td>\n      <td>AL</td>\n      <td>Imbery</td>\n      <td>Enterprise</td>\n      <td>Coffee County</td>\n      <td>101022</td>\n      <td>9122.0</td>\n      <td>39.2</td>\n      <td>41.0</td>\n      <td>0.15722396714182169</td>\n      <td>106100</td>\n      <td>0.005153723120668207</td>\n    </tr>\n    <tr>\n      <th>4</th>\n      <td>00693</td>\n      <td>PA</td>\n      <td>Greensburg</td>\n      <td>Pittsburgh</td>\n      <td>Westmoreland County</td>\n      <td>330761.5</td>\n      <td>10536.0</td>\n      <td>39.2</td>\n      <td>41.9</td>\n      <td>0.1480643208674369</td>\n      <td>107300</td>\n      <td>0.00675017397355602</td>\n    </tr>\n    <tr>\n      <th>...</th>\n      <td>...</td>\n      <td>...</td>\n      <td>...</td>\n      <td>...</td>\n      <td>...</td>\n      <td>...</td>\n      <td>...</td>\n      <td>...</td>\n      <td>...</td>\n      <td>...</td>\n      <td>...</td>\n      <td>...</td>\n    </tr>\n    <tr>\n      <th>29733</th>\n      <td>99827</td>\n      <td>AK</td>\n      <td>Haines</td>\n      <td>NaN</td>\n      <td>Haines Borough</td>\n      <td>211487</td>\n      <td>33387.0</td>\n      <td>45.2</td>\n      <td>45.8</td>\n      <td>0.22952529994783516</td>\n      <td>256200</td>\n      <td>0.002307692307692308</td>\n    </tr>\n    <tr>\n      <th>29734</th>\n      <td>99833</td>\n      <td>AK</td>\n      <td>Petersburg</td>\n      <td>NaN</td>\n      <td>Petersburg Borough</td>\n      <td>254642.9167</td>\n      <td>33227.0</td>\n      <td>39.3</td>\n      <td>42.7</td>\n      <td>0.21967213114754097</td>\n      <td>213100</td>\n      <td>0.009210526315789473</td>\n    </tr>\n    <tr>\n      <th>29735</th>\n      <td>99835</td>\n      <td>AK</td>\n      <td>Sitka</td>\n      <td>NaN</td>\n      <td>Sitka Borough</td>\n      <td>402391.3333</td>\n      <td>38423.0</td>\n      <td>37.2</td>\n      <td>40.5</td>\n      <td>0.20449365027678282</td>\n      <td>349300</td>\n      <td>0.010178117048346057</td>\n    </tr>\n    <tr>\n      <th>29736</th>\n      <td>99901</td>\n      <td>AK</td>\n      <td>Ketchikan</td>\n      <td>Ketchikan</td>\n      <td>Ketchikan Gateway Borough</td>\n      <td>294448.8333</td>\n      <td>34886.0</td>\n      <td>39.4</td>\n      <td>39.9</td>\n      <td>0.1701417848206839</td>\n      <td>272300</td>\n      <td>0.03564781675017895</td>\n    </tr>\n    <tr>\n      <th>29737</th>\n      <td>99929</td>\n      <td>AK</td>\n      <td>Wrangell</td>\n      <td>NaN</td>\n      <td>Wrangell Borough</td>\n      <td>215225.5833</td>\n      <td>31489.0</td>\n      <td>51.6</td>\n      <td>48.3</td>\n      <td>0.14026666666666668</td>\n      <td>212600</td>\n      <td>0.006635071090047393</td>\n    </tr>\n  </tbody>\n</table>\n<p>29738 rows × 12 columns</p>\n</div>"
     },
     "metadata": {},
     "execution_count": 27
    }
   ],
   "source": [
    "#Merge DFs\n",
    "merged_df=pd.merge(df_RE,df_CEN)\n",
    "merged_df"
   ]
  },
  {
   "cell_type": "code",
   "execution_count": 28,
   "metadata": {},
   "outputs": [],
   "source": [
    "df_rename=merged_df.rename(columns={'Zip Code':\"zipcode\"})\n",
    "df=df_rename.drop(columns=['Metro','Median Home Value'])\n",
    "final_df=df.set_index('zipcode')"
   ]
  },
  {
   "cell_type": "code",
   "execution_count": 29,
   "metadata": {},
   "outputs": [
    {
     "output_type": "execute_result",
     "data": {
      "text/plain": [
       "zipcode                    object\n",
       "State                      object\n",
       "City                       object\n",
       "CountyName                 object\n",
       "Average RE Prices         float64\n",
       "Income per capita         float64\n",
       "Median Age Male           float64\n",
       "Median Age Female         float64\n",
       "Bachelor's degree > 25    float64\n",
       "Public transportation     float64\n",
       "dtype: object"
      ]
     },
     "metadata": {},
     "execution_count": 29
    }
   ],
   "source": [
    "#Change dtypes to their corresponding types\n",
    "#merged_df.dtypes\n",
    "final_df=df.astype({'Average RE Prices': 'float64','Income per capita': 'float64','Median Age Male': 'float64','Median Age Female': 'float64',\"Bachelor's degree > 25\": 'float64',\"Public transportation\": 'float64'})\n",
    "final_df.dtypes"
   ]
  },
  {
   "cell_type": "code",
   "execution_count": 30,
   "metadata": {},
   "outputs": [
    {
     "output_type": "execute_result",
     "data": {
      "text/plain": [
       "      zipcode State        City                 CountyName  Average RE Prices  \\\n",
       "0       00602    AL      Auburn                 Lee County        114105.2500   \n",
       "1       00606    MO      Neosho              Newton County         59377.7500   \n",
       "2       00610    KY      Anasco                Pike County        108219.5833   \n",
       "3       00617    AL      Imbery              Coffee County        101022.0000   \n",
       "4       00693    PA  Greensburg        Westmoreland County        330761.5000   \n",
       "...       ...   ...         ...                        ...                ...   \n",
       "29733   99827    AK      Haines             Haines Borough        211487.0000   \n",
       "29734   99833    AK  Petersburg         Petersburg Borough        254642.9167   \n",
       "29735   99835    AK       Sitka              Sitka Borough        402391.3333   \n",
       "29736   99901    AK   Ketchikan  Ketchikan Gateway Borough        294448.8333   \n",
       "29737   99929    AK    Wrangell           Wrangell Borough        215225.5833   \n",
       "\n",
       "       Income per capita  Median Age Male  Median Age Female  \\\n",
       "0                 9277.0             41.9               42.8   \n",
       "1                 5943.0             43.2               43.4   \n",
       "2                10220.0             40.4               44.2   \n",
       "3                 9122.0             39.2               41.0   \n",
       "4                10536.0             39.2               41.9   \n",
       "...                  ...              ...                ...   \n",
       "29733            33387.0             45.2               45.8   \n",
       "29734            33227.0             39.3               42.7   \n",
       "29735            38423.0             37.2               40.5   \n",
       "29736            34886.0             39.4               39.9   \n",
       "29737            31489.0             51.6               48.3   \n",
       "\n",
       "       Bachelor's degree > 25  Public transportation  \n",
       "0                    0.134690               0.002796  \n",
       "1                    0.068866               0.000000  \n",
       "2                    0.130349               0.002741  \n",
       "3                    0.157224               0.005154  \n",
       "4                    0.148064               0.006750  \n",
       "...                       ...                    ...  \n",
       "29733                0.229525               0.002308  \n",
       "29734                0.219672               0.009211  \n",
       "29735                0.204494               0.010178  \n",
       "29736                0.170142               0.035648  \n",
       "29737                0.140267               0.006635  \n",
       "\n",
       "[29738 rows x 10 columns]"
      ],
      "text/html": "<div>\n<style scoped>\n    .dataframe tbody tr th:only-of-type {\n        vertical-align: middle;\n    }\n\n    .dataframe tbody tr th {\n        vertical-align: top;\n    }\n\n    .dataframe thead th {\n        text-align: right;\n    }\n</style>\n<table border=\"1\" class=\"dataframe\">\n  <thead>\n    <tr style=\"text-align: right;\">\n      <th></th>\n      <th>zipcode</th>\n      <th>State</th>\n      <th>City</th>\n      <th>CountyName</th>\n      <th>Average RE Prices</th>\n      <th>Income per capita</th>\n      <th>Median Age Male</th>\n      <th>Median Age Female</th>\n      <th>Bachelor's degree &gt; 25</th>\n      <th>Public transportation</th>\n    </tr>\n  </thead>\n  <tbody>\n    <tr>\n      <th>0</th>\n      <td>00602</td>\n      <td>AL</td>\n      <td>Auburn</td>\n      <td>Lee County</td>\n      <td>114105.2500</td>\n      <td>9277.0</td>\n      <td>41.9</td>\n      <td>42.8</td>\n      <td>0.134690</td>\n      <td>0.002796</td>\n    </tr>\n    <tr>\n      <th>1</th>\n      <td>00606</td>\n      <td>MO</td>\n      <td>Neosho</td>\n      <td>Newton County</td>\n      <td>59377.7500</td>\n      <td>5943.0</td>\n      <td>43.2</td>\n      <td>43.4</td>\n      <td>0.068866</td>\n      <td>0.000000</td>\n    </tr>\n    <tr>\n      <th>2</th>\n      <td>00610</td>\n      <td>KY</td>\n      <td>Anasco</td>\n      <td>Pike County</td>\n      <td>108219.5833</td>\n      <td>10220.0</td>\n      <td>40.4</td>\n      <td>44.2</td>\n      <td>0.130349</td>\n      <td>0.002741</td>\n    </tr>\n    <tr>\n      <th>3</th>\n      <td>00617</td>\n      <td>AL</td>\n      <td>Imbery</td>\n      <td>Coffee County</td>\n      <td>101022.0000</td>\n      <td>9122.0</td>\n      <td>39.2</td>\n      <td>41.0</td>\n      <td>0.157224</td>\n      <td>0.005154</td>\n    </tr>\n    <tr>\n      <th>4</th>\n      <td>00693</td>\n      <td>PA</td>\n      <td>Greensburg</td>\n      <td>Westmoreland County</td>\n      <td>330761.5000</td>\n      <td>10536.0</td>\n      <td>39.2</td>\n      <td>41.9</td>\n      <td>0.148064</td>\n      <td>0.006750</td>\n    </tr>\n    <tr>\n      <th>...</th>\n      <td>...</td>\n      <td>...</td>\n      <td>...</td>\n      <td>...</td>\n      <td>...</td>\n      <td>...</td>\n      <td>...</td>\n      <td>...</td>\n      <td>...</td>\n      <td>...</td>\n    </tr>\n    <tr>\n      <th>29733</th>\n      <td>99827</td>\n      <td>AK</td>\n      <td>Haines</td>\n      <td>Haines Borough</td>\n      <td>211487.0000</td>\n      <td>33387.0</td>\n      <td>45.2</td>\n      <td>45.8</td>\n      <td>0.229525</td>\n      <td>0.002308</td>\n    </tr>\n    <tr>\n      <th>29734</th>\n      <td>99833</td>\n      <td>AK</td>\n      <td>Petersburg</td>\n      <td>Petersburg Borough</td>\n      <td>254642.9167</td>\n      <td>33227.0</td>\n      <td>39.3</td>\n      <td>42.7</td>\n      <td>0.219672</td>\n      <td>0.009211</td>\n    </tr>\n    <tr>\n      <th>29735</th>\n      <td>99835</td>\n      <td>AK</td>\n      <td>Sitka</td>\n      <td>Sitka Borough</td>\n      <td>402391.3333</td>\n      <td>38423.0</td>\n      <td>37.2</td>\n      <td>40.5</td>\n      <td>0.204494</td>\n      <td>0.010178</td>\n    </tr>\n    <tr>\n      <th>29736</th>\n      <td>99901</td>\n      <td>AK</td>\n      <td>Ketchikan</td>\n      <td>Ketchikan Gateway Borough</td>\n      <td>294448.8333</td>\n      <td>34886.0</td>\n      <td>39.4</td>\n      <td>39.9</td>\n      <td>0.170142</td>\n      <td>0.035648</td>\n    </tr>\n    <tr>\n      <th>29737</th>\n      <td>99929</td>\n      <td>AK</td>\n      <td>Wrangell</td>\n      <td>Wrangell Borough</td>\n      <td>215225.5833</td>\n      <td>31489.0</td>\n      <td>51.6</td>\n      <td>48.3</td>\n      <td>0.140267</td>\n      <td>0.006635</td>\n    </tr>\n  </tbody>\n</table>\n<p>29738 rows × 10 columns</p>\n</div>"
     },
     "metadata": {},
     "execution_count": 30
    }
   ],
   "source": [
    "#View Final DF\n",
    "final_df"
   ]
  },
  {
   "cell_type": "code",
   "execution_count": 51,
   "metadata": {},
   "outputs": [],
   "source": [
    "#Create CSV\n",
    "final_df.to_csv(\"Master.csv\",index=False)"
   ]
  },
  {
   "cell_type": "code",
   "execution_count": null,
   "metadata": {},
   "outputs": [],
   "source": [
    "#Check for errors\n",
    "# df_CHECK=pd.read_csv(\"Master.csv\", encoding=\"ISO-8859-1\", converters={'zipcode': lambda x: str(x)})\n",
    "# df_CHECK.set_index('zipcode')"
   ]
  }
 ],
 "metadata": {
  "anaconda-cloud": {},
  "kernelspec": {
   "display_name": "Python 3",
   "language": "python",
   "name": "python3"
  },
  "language_info": {
   "codemirror_mode": {
    "name": "ipython",
    "version": 3
   },
   "file_extension": ".py",
   "mimetype": "text/x-python",
   "name": "python",
   "nbconvert_exporter": "python",
   "pygments_lexer": "ipython3",
   "version": "3.8.3-final"
  }
 },
 "nbformat": 4,
 "nbformat_minor": 2
}